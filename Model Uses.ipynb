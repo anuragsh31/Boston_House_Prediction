{
 "cells": [
  {
   "cell_type": "code",
   "execution_count": 1,
   "id": "4fa3458b",
   "metadata": {},
   "outputs": [],
   "source": [
    "from joblib import dump, load\n",
    "import numpy as np\n",
    "model=load('Dragon.joblib')"
   ]
  },
  {
   "cell_type": "code",
   "execution_count": 2,
   "id": "cf0d3d3a",
   "metadata": {},
   "outputs": [],
   "source": [
    "Features= np.array([[-0.43942006,  3.12628155, -1.12165014, -0.27288841, -.99888,\n",
    "       -0.2438696 , -3.772,  2.61111401, -1.0016859 , -0.5778192 ,\n",
    "       -0.97491834,  0.41164221, -0.86091034]])"
   ]
  },
  {
   "cell_type": "code",
   "execution_count": 3,
   "id": "22a500c6",
   "metadata": {},
   "outputs": [
    {
     "data": {
      "text/plain": [
       "array([22.936])"
      ]
     },
     "execution_count": 3,
     "metadata": {},
     "output_type": "execute_result"
    }
   ],
   "source": [
    "model.predict(Features)"
   ]
  },
  {
   "cell_type": "code",
   "execution_count": 4,
   "id": "9c6552c1",
   "metadata": {},
   "outputs": [],
   "source": [
    "a=np.array([[0.02731,0.0,7.07,0,0.469,6.421,78.9,4.9671,2,242,17.8,396.90,9.14]])"
   ]
  },
  {
   "cell_type": "code",
   "execution_count": 5,
   "id": "e7dd48a4",
   "metadata": {},
   "outputs": [
    {
     "data": {
      "text/plain": [
       "array([21.209])"
      ]
     },
     "execution_count": 5,
     "metadata": {},
     "output_type": "execute_result"
    }
   ],
   "source": [
    "model.predict(a)"
   ]
  },
  {
   "cell_type": "code",
   "execution_count": null,
   "id": "04cadc3e",
   "metadata": {},
   "outputs": [],
   "source": []
  }
 ],
 "metadata": {
  "kernelspec": {
   "display_name": "Python 3 (ipykernel)",
   "language": "python",
   "name": "python3"
  },
  "language_info": {
   "codemirror_mode": {
    "name": "ipython",
    "version": 3
   },
   "file_extension": ".py",
   "mimetype": "text/x-python",
   "name": "python",
   "nbconvert_exporter": "python",
   "pygments_lexer": "ipython3",
   "version": "3.10.4"
  }
 },
 "nbformat": 4,
 "nbformat_minor": 5
}
